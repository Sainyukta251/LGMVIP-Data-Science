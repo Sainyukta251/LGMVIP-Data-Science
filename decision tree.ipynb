{
  "nbformat": 4,
  "nbformat_minor": 0,
  "metadata": {
    "colab": {
      "name": "Untitled2.ipynb",
      "provenance": [],
      "collapsed_sections": []
    },
    "kernelspec": {
      "name": "python3",
      "display_name": "Python 3"
    },
    "language_info": {
      "name": "python"
    }
  },
  "cells": [
    {
      "cell_type": "markdown",
      "source": [
        "LGM-VIP Data Science Internship\n",
        "\n",
        "Batch: August 2022\n",
        "\n",
        "Task 4: Prediction using Decision Tree Algorithm(Level-Intermediate)\n",
        "\n",
        "Author: Sainyukta Gujar"
      ],
      "metadata": {
        "id": "er6Y-0iYwbbt"
      }
    },
    {
      "cell_type": "markdown",
      "source": [
        "Importing Libraries"
      ],
      "metadata": {
        "id": "6ufLRFDMwv0N"
      }
    },
    {
      "cell_type": "code",
      "source": [
        "import numpy as n\n",
        "import pandas as p\n",
        "import matplotlib.pyplot as plt\n",
        "import seaborn as s"
      ],
      "metadata": {
        "id": "u6o-e6W_wekw"
      },
      "execution_count": 1,
      "outputs": []
    },
    {
      "cell_type": "code",
      "execution_count": 2,
      "metadata": {
        "id": "WmBJWYhJwNrR"
      },
      "outputs": [],
      "source": [
        "%matplotlib inline"
      ]
    },
    {
      "cell_type": "code",
      "source": [
        "d=p.read_csv('Iris.csv')"
      ],
      "metadata": {
        "id": "_Eb7PP2wxj_y"
      },
      "execution_count": 27,
      "outputs": []
    },
    {
      "cell_type": "code",
      "source": [
        "d.head()"
      ],
      "metadata": {
        "colab": {
          "base_uri": "https://localhost:8080/",
          "height": 206
        },
        "id": "Tv5LCo28ykNp",
        "outputId": "004e63bf-157e-4c1a-f719-ee9561422ec4"
      },
      "execution_count": 28,
      "outputs": [
        {
          "output_type": "execute_result",
          "data": {
            "text/plain": [
              "   Id  SepalLengthCm  SepalWidthCm  PetalLengthCm  PetalWidthCm      Species\n",
              "0   1            5.1           3.5            1.4           0.2  Iris-setosa\n",
              "1   2            4.9           3.0            1.4           0.2  Iris-setosa\n",
              "2   3            4.7           3.2            1.3           0.2  Iris-setosa\n",
              "3   4            4.6           3.1            1.5           0.2  Iris-setosa\n",
              "4   5            5.0           3.6            1.4           0.2  Iris-setosa"
            ],
            "text/html": [
              "\n",
              "  <div id=\"df-467f064c-d01f-42af-8d8c-0fe16a62526a\">\n",
              "    <div class=\"colab-df-container\">\n",
              "      <div>\n",
              "<style scoped>\n",
              "    .dataframe tbody tr th:only-of-type {\n",
              "        vertical-align: middle;\n",
              "    }\n",
              "\n",
              "    .dataframe tbody tr th {\n",
              "        vertical-align: top;\n",
              "    }\n",
              "\n",
              "    .dataframe thead th {\n",
              "        text-align: right;\n",
              "    }\n",
              "</style>\n",
              "<table border=\"1\" class=\"dataframe\">\n",
              "  <thead>\n",
              "    <tr style=\"text-align: right;\">\n",
              "      <th></th>\n",
              "      <th>Id</th>\n",
              "      <th>SepalLengthCm</th>\n",
              "      <th>SepalWidthCm</th>\n",
              "      <th>PetalLengthCm</th>\n",
              "      <th>PetalWidthCm</th>\n",
              "      <th>Species</th>\n",
              "    </tr>\n",
              "  </thead>\n",
              "  <tbody>\n",
              "    <tr>\n",
              "      <th>0</th>\n",
              "      <td>1</td>\n",
              "      <td>5.1</td>\n",
              "      <td>3.5</td>\n",
              "      <td>1.4</td>\n",
              "      <td>0.2</td>\n",
              "      <td>Iris-setosa</td>\n",
              "    </tr>\n",
              "    <tr>\n",
              "      <th>1</th>\n",
              "      <td>2</td>\n",
              "      <td>4.9</td>\n",
              "      <td>3.0</td>\n",
              "      <td>1.4</td>\n",
              "      <td>0.2</td>\n",
              "      <td>Iris-setosa</td>\n",
              "    </tr>\n",
              "    <tr>\n",
              "      <th>2</th>\n",
              "      <td>3</td>\n",
              "      <td>4.7</td>\n",
              "      <td>3.2</td>\n",
              "      <td>1.3</td>\n",
              "      <td>0.2</td>\n",
              "      <td>Iris-setosa</td>\n",
              "    </tr>\n",
              "    <tr>\n",
              "      <th>3</th>\n",
              "      <td>4</td>\n",
              "      <td>4.6</td>\n",
              "      <td>3.1</td>\n",
              "      <td>1.5</td>\n",
              "      <td>0.2</td>\n",
              "      <td>Iris-setosa</td>\n",
              "    </tr>\n",
              "    <tr>\n",
              "      <th>4</th>\n",
              "      <td>5</td>\n",
              "      <td>5.0</td>\n",
              "      <td>3.6</td>\n",
              "      <td>1.4</td>\n",
              "      <td>0.2</td>\n",
              "      <td>Iris-setosa</td>\n",
              "    </tr>\n",
              "  </tbody>\n",
              "</table>\n",
              "</div>\n",
              "      <button class=\"colab-df-convert\" onclick=\"convertToInteractive('df-467f064c-d01f-42af-8d8c-0fe16a62526a')\"\n",
              "              title=\"Convert this dataframe to an interactive table.\"\n",
              "              style=\"display:none;\">\n",
              "        \n",
              "  <svg xmlns=\"http://www.w3.org/2000/svg\" height=\"24px\"viewBox=\"0 0 24 24\"\n",
              "       width=\"24px\">\n",
              "    <path d=\"M0 0h24v24H0V0z\" fill=\"none\"/>\n",
              "    <path d=\"M18.56 5.44l.94 2.06.94-2.06 2.06-.94-2.06-.94-.94-2.06-.94 2.06-2.06.94zm-11 1L8.5 8.5l.94-2.06 2.06-.94-2.06-.94L8.5 2.5l-.94 2.06-2.06.94zm10 10l.94 2.06.94-2.06 2.06-.94-2.06-.94-.94-2.06-.94 2.06-2.06.94z\"/><path d=\"M17.41 7.96l-1.37-1.37c-.4-.4-.92-.59-1.43-.59-.52 0-1.04.2-1.43.59L10.3 9.45l-7.72 7.72c-.78.78-.78 2.05 0 2.83L4 21.41c.39.39.9.59 1.41.59.51 0 1.02-.2 1.41-.59l7.78-7.78 2.81-2.81c.8-.78.8-2.07 0-2.86zM5.41 20L4 18.59l7.72-7.72 1.47 1.35L5.41 20z\"/>\n",
              "  </svg>\n",
              "      </button>\n",
              "      \n",
              "  <style>\n",
              "    .colab-df-container {\n",
              "      display:flex;\n",
              "      flex-wrap:wrap;\n",
              "      gap: 12px;\n",
              "    }\n",
              "\n",
              "    .colab-df-convert {\n",
              "      background-color: #E8F0FE;\n",
              "      border: none;\n",
              "      border-radius: 50%;\n",
              "      cursor: pointer;\n",
              "      display: none;\n",
              "      fill: #1967D2;\n",
              "      height: 32px;\n",
              "      padding: 0 0 0 0;\n",
              "      width: 32px;\n",
              "    }\n",
              "\n",
              "    .colab-df-convert:hover {\n",
              "      background-color: #E2EBFA;\n",
              "      box-shadow: 0px 1px 2px rgba(60, 64, 67, 0.3), 0px 1px 3px 1px rgba(60, 64, 67, 0.15);\n",
              "      fill: #174EA6;\n",
              "    }\n",
              "\n",
              "    [theme=dark] .colab-df-convert {\n",
              "      background-color: #3B4455;\n",
              "      fill: #D2E3FC;\n",
              "    }\n",
              "\n",
              "    [theme=dark] .colab-df-convert:hover {\n",
              "      background-color: #434B5C;\n",
              "      box-shadow: 0px 1px 3px 1px rgba(0, 0, 0, 0.15);\n",
              "      filter: drop-shadow(0px 1px 2px rgba(0, 0, 0, 0.3));\n",
              "      fill: #FFFFFF;\n",
              "    }\n",
              "  </style>\n",
              "\n",
              "      <script>\n",
              "        const buttonEl =\n",
              "          document.querySelector('#df-467f064c-d01f-42af-8d8c-0fe16a62526a button.colab-df-convert');\n",
              "        buttonEl.style.display =\n",
              "          google.colab.kernel.accessAllowed ? 'block' : 'none';\n",
              "\n",
              "        async function convertToInteractive(key) {\n",
              "          const element = document.querySelector('#df-467f064c-d01f-42af-8d8c-0fe16a62526a');\n",
              "          const dataTable =\n",
              "            await google.colab.kernel.invokeFunction('convertToInteractive',\n",
              "                                                     [key], {});\n",
              "          if (!dataTable) return;\n",
              "\n",
              "          const docLinkHtml = 'Like what you see? Visit the ' +\n",
              "            '<a target=\"_blank\" href=https://colab.research.google.com/notebooks/data_table.ipynb>data table notebook</a>'\n",
              "            + ' to learn more about interactive tables.';\n",
              "          element.innerHTML = '';\n",
              "          dataTable['output_type'] = 'display_data';\n",
              "          await google.colab.output.renderOutput(dataTable, element);\n",
              "          const docLink = document.createElement('div');\n",
              "          docLink.innerHTML = docLinkHtml;\n",
              "          element.appendChild(docLink);\n",
              "        }\n",
              "      </script>\n",
              "    </div>\n",
              "  </div>\n",
              "  "
            ]
          },
          "metadata": {},
          "execution_count": 28
        }
      ]
    },
    {
      "cell_type": "code",
      "source": [
        "d.shape"
      ],
      "metadata": {
        "colab": {
          "base_uri": "https://localhost:8080/"
        },
        "id": "uKxrGO8GyntK",
        "outputId": "518a7618-8d50-4a93-9c05-62d8397548e9"
      },
      "execution_count": 29,
      "outputs": [
        {
          "output_type": "execute_result",
          "data": {
            "text/plain": [
              "(150, 6)"
            ]
          },
          "metadata": {},
          "execution_count": 29
        }
      ]
    },
    {
      "cell_type": "code",
      "source": [
        "d.isnull().sum()"
      ],
      "metadata": {
        "colab": {
          "base_uri": "https://localhost:8080/"
        },
        "id": "UvF0T30Cywiv",
        "outputId": "5180def2-942d-45fe-c20e-f92470da0cd7"
      },
      "execution_count": 30,
      "outputs": [
        {
          "output_type": "execute_result",
          "data": {
            "text/plain": [
              "Id               0\n",
              "SepalLengthCm    0\n",
              "SepalWidthCm     0\n",
              "PetalLengthCm    0\n",
              "PetalWidthCm     0\n",
              "Species          0\n",
              "dtype: int64"
            ]
          },
          "metadata": {},
          "execution_count": 30
        }
      ]
    },
    {
      "cell_type": "markdown",
      "source": [
        "No null values in the data"
      ],
      "metadata": {
        "id": "SPruw7ozy72L"
      }
    },
    {
      "cell_type": "code",
      "source": [
        "d.info()"
      ],
      "metadata": {
        "colab": {
          "base_uri": "https://localhost:8080/"
        },
        "id": "yefswup7y3fB",
        "outputId": "d301ae55-998a-4e67-96a2-3ab5402fa0b0"
      },
      "execution_count": 31,
      "outputs": [
        {
          "output_type": "stream",
          "name": "stdout",
          "text": [
            "<class 'pandas.core.frame.DataFrame'>\n",
            "RangeIndex: 150 entries, 0 to 149\n",
            "Data columns (total 6 columns):\n",
            " #   Column         Non-Null Count  Dtype  \n",
            "---  ------         --------------  -----  \n",
            " 0   Id             150 non-null    int64  \n",
            " 1   SepalLengthCm  150 non-null    float64\n",
            " 2   SepalWidthCm   150 non-null    float64\n",
            " 3   PetalLengthCm  150 non-null    float64\n",
            " 4   PetalWidthCm   150 non-null    float64\n",
            " 5   Species        150 non-null    object \n",
            "dtypes: float64(4), int64(1), object(1)\n",
            "memory usage: 7.2+ KB\n"
          ]
        }
      ]
    },
    {
      "cell_type": "code",
      "source": [
        "d.describe()"
      ],
      "metadata": {
        "colab": {
          "base_uri": "https://localhost:8080/",
          "height": 300
        },
        "id": "dCNZn9umzExR",
        "outputId": "bbe0cb07-64ea-4dd2-e2cf-0b83996e1fb9"
      },
      "execution_count": 32,
      "outputs": [
        {
          "output_type": "execute_result",
          "data": {
            "text/plain": [
              "               Id  SepalLengthCm  SepalWidthCm  PetalLengthCm  PetalWidthCm\n",
              "count  150.000000     150.000000    150.000000     150.000000    150.000000\n",
              "mean    75.500000       5.843333      3.054000       3.758667      1.198667\n",
              "std     43.445368       0.828066      0.433594       1.764420      0.763161\n",
              "min      1.000000       4.300000      2.000000       1.000000      0.100000\n",
              "25%     38.250000       5.100000      2.800000       1.600000      0.300000\n",
              "50%     75.500000       5.800000      3.000000       4.350000      1.300000\n",
              "75%    112.750000       6.400000      3.300000       5.100000      1.800000\n",
              "max    150.000000       7.900000      4.400000       6.900000      2.500000"
            ],
            "text/html": [
              "\n",
              "  <div id=\"df-52df7928-160d-4dcf-bcfd-2adb89d99cbf\">\n",
              "    <div class=\"colab-df-container\">\n",
              "      <div>\n",
              "<style scoped>\n",
              "    .dataframe tbody tr th:only-of-type {\n",
              "        vertical-align: middle;\n",
              "    }\n",
              "\n",
              "    .dataframe tbody tr th {\n",
              "        vertical-align: top;\n",
              "    }\n",
              "\n",
              "    .dataframe thead th {\n",
              "        text-align: right;\n",
              "    }\n",
              "</style>\n",
              "<table border=\"1\" class=\"dataframe\">\n",
              "  <thead>\n",
              "    <tr style=\"text-align: right;\">\n",
              "      <th></th>\n",
              "      <th>Id</th>\n",
              "      <th>SepalLengthCm</th>\n",
              "      <th>SepalWidthCm</th>\n",
              "      <th>PetalLengthCm</th>\n",
              "      <th>PetalWidthCm</th>\n",
              "    </tr>\n",
              "  </thead>\n",
              "  <tbody>\n",
              "    <tr>\n",
              "      <th>count</th>\n",
              "      <td>150.000000</td>\n",
              "      <td>150.000000</td>\n",
              "      <td>150.000000</td>\n",
              "      <td>150.000000</td>\n",
              "      <td>150.000000</td>\n",
              "    </tr>\n",
              "    <tr>\n",
              "      <th>mean</th>\n",
              "      <td>75.500000</td>\n",
              "      <td>5.843333</td>\n",
              "      <td>3.054000</td>\n",
              "      <td>3.758667</td>\n",
              "      <td>1.198667</td>\n",
              "    </tr>\n",
              "    <tr>\n",
              "      <th>std</th>\n",
              "      <td>43.445368</td>\n",
              "      <td>0.828066</td>\n",
              "      <td>0.433594</td>\n",
              "      <td>1.764420</td>\n",
              "      <td>0.763161</td>\n",
              "    </tr>\n",
              "    <tr>\n",
              "      <th>min</th>\n",
              "      <td>1.000000</td>\n",
              "      <td>4.300000</td>\n",
              "      <td>2.000000</td>\n",
              "      <td>1.000000</td>\n",
              "      <td>0.100000</td>\n",
              "    </tr>\n",
              "    <tr>\n",
              "      <th>25%</th>\n",
              "      <td>38.250000</td>\n",
              "      <td>5.100000</td>\n",
              "      <td>2.800000</td>\n",
              "      <td>1.600000</td>\n",
              "      <td>0.300000</td>\n",
              "    </tr>\n",
              "    <tr>\n",
              "      <th>50%</th>\n",
              "      <td>75.500000</td>\n",
              "      <td>5.800000</td>\n",
              "      <td>3.000000</td>\n",
              "      <td>4.350000</td>\n",
              "      <td>1.300000</td>\n",
              "    </tr>\n",
              "    <tr>\n",
              "      <th>75%</th>\n",
              "      <td>112.750000</td>\n",
              "      <td>6.400000</td>\n",
              "      <td>3.300000</td>\n",
              "      <td>5.100000</td>\n",
              "      <td>1.800000</td>\n",
              "    </tr>\n",
              "    <tr>\n",
              "      <th>max</th>\n",
              "      <td>150.000000</td>\n",
              "      <td>7.900000</td>\n",
              "      <td>4.400000</td>\n",
              "      <td>6.900000</td>\n",
              "      <td>2.500000</td>\n",
              "    </tr>\n",
              "  </tbody>\n",
              "</table>\n",
              "</div>\n",
              "      <button class=\"colab-df-convert\" onclick=\"convertToInteractive('df-52df7928-160d-4dcf-bcfd-2adb89d99cbf')\"\n",
              "              title=\"Convert this dataframe to an interactive table.\"\n",
              "              style=\"display:none;\">\n",
              "        \n",
              "  <svg xmlns=\"http://www.w3.org/2000/svg\" height=\"24px\"viewBox=\"0 0 24 24\"\n",
              "       width=\"24px\">\n",
              "    <path d=\"M0 0h24v24H0V0z\" fill=\"none\"/>\n",
              "    <path d=\"M18.56 5.44l.94 2.06.94-2.06 2.06-.94-2.06-.94-.94-2.06-.94 2.06-2.06.94zm-11 1L8.5 8.5l.94-2.06 2.06-.94-2.06-.94L8.5 2.5l-.94 2.06-2.06.94zm10 10l.94 2.06.94-2.06 2.06-.94-2.06-.94-.94-2.06-.94 2.06-2.06.94z\"/><path d=\"M17.41 7.96l-1.37-1.37c-.4-.4-.92-.59-1.43-.59-.52 0-1.04.2-1.43.59L10.3 9.45l-7.72 7.72c-.78.78-.78 2.05 0 2.83L4 21.41c.39.39.9.59 1.41.59.51 0 1.02-.2 1.41-.59l7.78-7.78 2.81-2.81c.8-.78.8-2.07 0-2.86zM5.41 20L4 18.59l7.72-7.72 1.47 1.35L5.41 20z\"/>\n",
              "  </svg>\n",
              "      </button>\n",
              "      \n",
              "  <style>\n",
              "    .colab-df-container {\n",
              "      display:flex;\n",
              "      flex-wrap:wrap;\n",
              "      gap: 12px;\n",
              "    }\n",
              "\n",
              "    .colab-df-convert {\n",
              "      background-color: #E8F0FE;\n",
              "      border: none;\n",
              "      border-radius: 50%;\n",
              "      cursor: pointer;\n",
              "      display: none;\n",
              "      fill: #1967D2;\n",
              "      height: 32px;\n",
              "      padding: 0 0 0 0;\n",
              "      width: 32px;\n",
              "    }\n",
              "\n",
              "    .colab-df-convert:hover {\n",
              "      background-color: #E2EBFA;\n",
              "      box-shadow: 0px 1px 2px rgba(60, 64, 67, 0.3), 0px 1px 3px 1px rgba(60, 64, 67, 0.15);\n",
              "      fill: #174EA6;\n",
              "    }\n",
              "\n",
              "    [theme=dark] .colab-df-convert {\n",
              "      background-color: #3B4455;\n",
              "      fill: #D2E3FC;\n",
              "    }\n",
              "\n",
              "    [theme=dark] .colab-df-convert:hover {\n",
              "      background-color: #434B5C;\n",
              "      box-shadow: 0px 1px 3px 1px rgba(0, 0, 0, 0.15);\n",
              "      filter: drop-shadow(0px 1px 2px rgba(0, 0, 0, 0.3));\n",
              "      fill: #FFFFFF;\n",
              "    }\n",
              "  </style>\n",
              "\n",
              "      <script>\n",
              "        const buttonEl =\n",
              "          document.querySelector('#df-52df7928-160d-4dcf-bcfd-2adb89d99cbf button.colab-df-convert');\n",
              "        buttonEl.style.display =\n",
              "          google.colab.kernel.accessAllowed ? 'block' : 'none';\n",
              "\n",
              "        async function convertToInteractive(key) {\n",
              "          const element = document.querySelector('#df-52df7928-160d-4dcf-bcfd-2adb89d99cbf');\n",
              "          const dataTable =\n",
              "            await google.colab.kernel.invokeFunction('convertToInteractive',\n",
              "                                                     [key], {});\n",
              "          if (!dataTable) return;\n",
              "\n",
              "          const docLinkHtml = 'Like what you see? Visit the ' +\n",
              "            '<a target=\"_blank\" href=https://colab.research.google.com/notebooks/data_table.ipynb>data table notebook</a>'\n",
              "            + ' to learn more about interactive tables.';\n",
              "          element.innerHTML = '';\n",
              "          dataTable['output_type'] = 'display_data';\n",
              "          await google.colab.output.renderOutput(dataTable, element);\n",
              "          const docLink = document.createElement('div');\n",
              "          docLink.innerHTML = docLinkHtml;\n",
              "          element.appendChild(docLink);\n",
              "        }\n",
              "      </script>\n",
              "    </div>\n",
              "  </div>\n",
              "  "
            ]
          },
          "metadata": {},
          "execution_count": 32
        }
      ]
    },
    {
      "cell_type": "code",
      "source": [
        "d['Species'].value_counts()"
      ],
      "metadata": {
        "colab": {
          "base_uri": "https://localhost:8080/"
        },
        "id": "J1XWkLhVzHlK",
        "outputId": "4a36f913-17fd-4844-baa5-8b766cbf46e5"
      },
      "execution_count": 33,
      "outputs": [
        {
          "output_type": "execute_result",
          "data": {
            "text/plain": [
              "Iris-setosa        50\n",
              "Iris-versicolor    50\n",
              "Iris-virginica     50\n",
              "Name: Species, dtype: int64"
            ]
          },
          "metadata": {},
          "execution_count": 33
        }
      ]
    },
    {
      "cell_type": "markdown",
      "source": [
        "Splitting the data into independent and dependent variables"
      ],
      "metadata": {
        "id": "uafJEAQ1zZ74"
      }
    },
    {
      "cell_type": "code",
      "source": [
        "x=d.iloc[:,:4].values\n",
        "y=d.iloc[:,-1:].values"
      ],
      "metadata": {
        "id": "K62vJAv-zRxT"
      },
      "execution_count": 34,
      "outputs": []
    },
    {
      "cell_type": "code",
      "source": [
        "x"
      ],
      "metadata": {
        "colab": {
          "base_uri": "https://localhost:8080/"
        },
        "id": "uNuumwEdzrry",
        "outputId": "66f05649-83a6-498d-8db0-95f2fb86841d"
      },
      "execution_count": 35,
      "outputs": [
        {
          "output_type": "execute_result",
          "data": {
            "text/plain": [
              "array([[  1. ,   5.1,   3.5,   1.4],\n",
              "       [  2. ,   4.9,   3. ,   1.4],\n",
              "       [  3. ,   4.7,   3.2,   1.3],\n",
              "       [  4. ,   4.6,   3.1,   1.5],\n",
              "       [  5. ,   5. ,   3.6,   1.4],\n",
              "       [  6. ,   5.4,   3.9,   1.7],\n",
              "       [  7. ,   4.6,   3.4,   1.4],\n",
              "       [  8. ,   5. ,   3.4,   1.5],\n",
              "       [  9. ,   4.4,   2.9,   1.4],\n",
              "       [ 10. ,   4.9,   3.1,   1.5],\n",
              "       [ 11. ,   5.4,   3.7,   1.5],\n",
              "       [ 12. ,   4.8,   3.4,   1.6],\n",
              "       [ 13. ,   4.8,   3. ,   1.4],\n",
              "       [ 14. ,   4.3,   3. ,   1.1],\n",
              "       [ 15. ,   5.8,   4. ,   1.2],\n",
              "       [ 16. ,   5.7,   4.4,   1.5],\n",
              "       [ 17. ,   5.4,   3.9,   1.3],\n",
              "       [ 18. ,   5.1,   3.5,   1.4],\n",
              "       [ 19. ,   5.7,   3.8,   1.7],\n",
              "       [ 20. ,   5.1,   3.8,   1.5],\n",
              "       [ 21. ,   5.4,   3.4,   1.7],\n",
              "       [ 22. ,   5.1,   3.7,   1.5],\n",
              "       [ 23. ,   4.6,   3.6,   1. ],\n",
              "       [ 24. ,   5.1,   3.3,   1.7],\n",
              "       [ 25. ,   4.8,   3.4,   1.9],\n",
              "       [ 26. ,   5. ,   3. ,   1.6],\n",
              "       [ 27. ,   5. ,   3.4,   1.6],\n",
              "       [ 28. ,   5.2,   3.5,   1.5],\n",
              "       [ 29. ,   5.2,   3.4,   1.4],\n",
              "       [ 30. ,   4.7,   3.2,   1.6],\n",
              "       [ 31. ,   4.8,   3.1,   1.6],\n",
              "       [ 32. ,   5.4,   3.4,   1.5],\n",
              "       [ 33. ,   5.2,   4.1,   1.5],\n",
              "       [ 34. ,   5.5,   4.2,   1.4],\n",
              "       [ 35. ,   4.9,   3.1,   1.5],\n",
              "       [ 36. ,   5. ,   3.2,   1.2],\n",
              "       [ 37. ,   5.5,   3.5,   1.3],\n",
              "       [ 38. ,   4.9,   3.1,   1.5],\n",
              "       [ 39. ,   4.4,   3. ,   1.3],\n",
              "       [ 40. ,   5.1,   3.4,   1.5],\n",
              "       [ 41. ,   5. ,   3.5,   1.3],\n",
              "       [ 42. ,   4.5,   2.3,   1.3],\n",
              "       [ 43. ,   4.4,   3.2,   1.3],\n",
              "       [ 44. ,   5. ,   3.5,   1.6],\n",
              "       [ 45. ,   5.1,   3.8,   1.9],\n",
              "       [ 46. ,   4.8,   3. ,   1.4],\n",
              "       [ 47. ,   5.1,   3.8,   1.6],\n",
              "       [ 48. ,   4.6,   3.2,   1.4],\n",
              "       [ 49. ,   5.3,   3.7,   1.5],\n",
              "       [ 50. ,   5. ,   3.3,   1.4],\n",
              "       [ 51. ,   7. ,   3.2,   4.7],\n",
              "       [ 52. ,   6.4,   3.2,   4.5],\n",
              "       [ 53. ,   6.9,   3.1,   4.9],\n",
              "       [ 54. ,   5.5,   2.3,   4. ],\n",
              "       [ 55. ,   6.5,   2.8,   4.6],\n",
              "       [ 56. ,   5.7,   2.8,   4.5],\n",
              "       [ 57. ,   6.3,   3.3,   4.7],\n",
              "       [ 58. ,   4.9,   2.4,   3.3],\n",
              "       [ 59. ,   6.6,   2.9,   4.6],\n",
              "       [ 60. ,   5.2,   2.7,   3.9],\n",
              "       [ 61. ,   5. ,   2. ,   3.5],\n",
              "       [ 62. ,   5.9,   3. ,   4.2],\n",
              "       [ 63. ,   6. ,   2.2,   4. ],\n",
              "       [ 64. ,   6.1,   2.9,   4.7],\n",
              "       [ 65. ,   5.6,   2.9,   3.6],\n",
              "       [ 66. ,   6.7,   3.1,   4.4],\n",
              "       [ 67. ,   5.6,   3. ,   4.5],\n",
              "       [ 68. ,   5.8,   2.7,   4.1],\n",
              "       [ 69. ,   6.2,   2.2,   4.5],\n",
              "       [ 70. ,   5.6,   2.5,   3.9],\n",
              "       [ 71. ,   5.9,   3.2,   4.8],\n",
              "       [ 72. ,   6.1,   2.8,   4. ],\n",
              "       [ 73. ,   6.3,   2.5,   4.9],\n",
              "       [ 74. ,   6.1,   2.8,   4.7],\n",
              "       [ 75. ,   6.4,   2.9,   4.3],\n",
              "       [ 76. ,   6.6,   3. ,   4.4],\n",
              "       [ 77. ,   6.8,   2.8,   4.8],\n",
              "       [ 78. ,   6.7,   3. ,   5. ],\n",
              "       [ 79. ,   6. ,   2.9,   4.5],\n",
              "       [ 80. ,   5.7,   2.6,   3.5],\n",
              "       [ 81. ,   5.5,   2.4,   3.8],\n",
              "       [ 82. ,   5.5,   2.4,   3.7],\n",
              "       [ 83. ,   5.8,   2.7,   3.9],\n",
              "       [ 84. ,   6. ,   2.7,   5.1],\n",
              "       [ 85. ,   5.4,   3. ,   4.5],\n",
              "       [ 86. ,   6. ,   3.4,   4.5],\n",
              "       [ 87. ,   6.7,   3.1,   4.7],\n",
              "       [ 88. ,   6.3,   2.3,   4.4],\n",
              "       [ 89. ,   5.6,   3. ,   4.1],\n",
              "       [ 90. ,   5.5,   2.5,   4. ],\n",
              "       [ 91. ,   5.5,   2.6,   4.4],\n",
              "       [ 92. ,   6.1,   3. ,   4.6],\n",
              "       [ 93. ,   5.8,   2.6,   4. ],\n",
              "       [ 94. ,   5. ,   2.3,   3.3],\n",
              "       [ 95. ,   5.6,   2.7,   4.2],\n",
              "       [ 96. ,   5.7,   3. ,   4.2],\n",
              "       [ 97. ,   5.7,   2.9,   4.2],\n",
              "       [ 98. ,   6.2,   2.9,   4.3],\n",
              "       [ 99. ,   5.1,   2.5,   3. ],\n",
              "       [100. ,   5.7,   2.8,   4.1],\n",
              "       [101. ,   6.3,   3.3,   6. ],\n",
              "       [102. ,   5.8,   2.7,   5.1],\n",
              "       [103. ,   7.1,   3. ,   5.9],\n",
              "       [104. ,   6.3,   2.9,   5.6],\n",
              "       [105. ,   6.5,   3. ,   5.8],\n",
              "       [106. ,   7.6,   3. ,   6.6],\n",
              "       [107. ,   4.9,   2.5,   4.5],\n",
              "       [108. ,   7.3,   2.9,   6.3],\n",
              "       [109. ,   6.7,   2.5,   5.8],\n",
              "       [110. ,   7.2,   3.6,   6.1],\n",
              "       [111. ,   6.5,   3.2,   5.1],\n",
              "       [112. ,   6.4,   2.7,   5.3],\n",
              "       [113. ,   6.8,   3. ,   5.5],\n",
              "       [114. ,   5.7,   2.5,   5. ],\n",
              "       [115. ,   5.8,   2.8,   5.1],\n",
              "       [116. ,   6.4,   3.2,   5.3],\n",
              "       [117. ,   6.5,   3. ,   5.5],\n",
              "       [118. ,   7.7,   3.8,   6.7],\n",
              "       [119. ,   7.7,   2.6,   6.9],\n",
              "       [120. ,   6. ,   2.2,   5. ],\n",
              "       [121. ,   6.9,   3.2,   5.7],\n",
              "       [122. ,   5.6,   2.8,   4.9],\n",
              "       [123. ,   7.7,   2.8,   6.7],\n",
              "       [124. ,   6.3,   2.7,   4.9],\n",
              "       [125. ,   6.7,   3.3,   5.7],\n",
              "       [126. ,   7.2,   3.2,   6. ],\n",
              "       [127. ,   6.2,   2.8,   4.8],\n",
              "       [128. ,   6.1,   3. ,   4.9],\n",
              "       [129. ,   6.4,   2.8,   5.6],\n",
              "       [130. ,   7.2,   3. ,   5.8],\n",
              "       [131. ,   7.4,   2.8,   6.1],\n",
              "       [132. ,   7.9,   3.8,   6.4],\n",
              "       [133. ,   6.4,   2.8,   5.6],\n",
              "       [134. ,   6.3,   2.8,   5.1],\n",
              "       [135. ,   6.1,   2.6,   5.6],\n",
              "       [136. ,   7.7,   3. ,   6.1],\n",
              "       [137. ,   6.3,   3.4,   5.6],\n",
              "       [138. ,   6.4,   3.1,   5.5],\n",
              "       [139. ,   6. ,   3. ,   4.8],\n",
              "       [140. ,   6.9,   3.1,   5.4],\n",
              "       [141. ,   6.7,   3.1,   5.6],\n",
              "       [142. ,   6.9,   3.1,   5.1],\n",
              "       [143. ,   5.8,   2.7,   5.1],\n",
              "       [144. ,   6.8,   3.2,   5.9],\n",
              "       [145. ,   6.7,   3.3,   5.7],\n",
              "       [146. ,   6.7,   3. ,   5.2],\n",
              "       [147. ,   6.3,   2.5,   5. ],\n",
              "       [148. ,   6.5,   3. ,   5.2],\n",
              "       [149. ,   6.2,   3.4,   5.4],\n",
              "       [150. ,   5.9,   3. ,   5.1]])"
            ]
          },
          "metadata": {},
          "execution_count": 35
        }
      ]
    },
    {
      "cell_type": "code",
      "source": [
        "y"
      ],
      "metadata": {
        "colab": {
          "base_uri": "https://localhost:8080/"
        },
        "id": "ZEDs02tnzsNB",
        "outputId": "e65f3d55-0943-42c4-cbae-ed8aaf5e4820"
      },
      "execution_count": 36,
      "outputs": [
        {
          "output_type": "execute_result",
          "data": {
            "text/plain": [
              "array([['Iris-setosa'],\n",
              "       ['Iris-setosa'],\n",
              "       ['Iris-setosa'],\n",
              "       ['Iris-setosa'],\n",
              "       ['Iris-setosa'],\n",
              "       ['Iris-setosa'],\n",
              "       ['Iris-setosa'],\n",
              "       ['Iris-setosa'],\n",
              "       ['Iris-setosa'],\n",
              "       ['Iris-setosa'],\n",
              "       ['Iris-setosa'],\n",
              "       ['Iris-setosa'],\n",
              "       ['Iris-setosa'],\n",
              "       ['Iris-setosa'],\n",
              "       ['Iris-setosa'],\n",
              "       ['Iris-setosa'],\n",
              "       ['Iris-setosa'],\n",
              "       ['Iris-setosa'],\n",
              "       ['Iris-setosa'],\n",
              "       ['Iris-setosa'],\n",
              "       ['Iris-setosa'],\n",
              "       ['Iris-setosa'],\n",
              "       ['Iris-setosa'],\n",
              "       ['Iris-setosa'],\n",
              "       ['Iris-setosa'],\n",
              "       ['Iris-setosa'],\n",
              "       ['Iris-setosa'],\n",
              "       ['Iris-setosa'],\n",
              "       ['Iris-setosa'],\n",
              "       ['Iris-setosa'],\n",
              "       ['Iris-setosa'],\n",
              "       ['Iris-setosa'],\n",
              "       ['Iris-setosa'],\n",
              "       ['Iris-setosa'],\n",
              "       ['Iris-setosa'],\n",
              "       ['Iris-setosa'],\n",
              "       ['Iris-setosa'],\n",
              "       ['Iris-setosa'],\n",
              "       ['Iris-setosa'],\n",
              "       ['Iris-setosa'],\n",
              "       ['Iris-setosa'],\n",
              "       ['Iris-setosa'],\n",
              "       ['Iris-setosa'],\n",
              "       ['Iris-setosa'],\n",
              "       ['Iris-setosa'],\n",
              "       ['Iris-setosa'],\n",
              "       ['Iris-setosa'],\n",
              "       ['Iris-setosa'],\n",
              "       ['Iris-setosa'],\n",
              "       ['Iris-setosa'],\n",
              "       ['Iris-versicolor'],\n",
              "       ['Iris-versicolor'],\n",
              "       ['Iris-versicolor'],\n",
              "       ['Iris-versicolor'],\n",
              "       ['Iris-versicolor'],\n",
              "       ['Iris-versicolor'],\n",
              "       ['Iris-versicolor'],\n",
              "       ['Iris-versicolor'],\n",
              "       ['Iris-versicolor'],\n",
              "       ['Iris-versicolor'],\n",
              "       ['Iris-versicolor'],\n",
              "       ['Iris-versicolor'],\n",
              "       ['Iris-versicolor'],\n",
              "       ['Iris-versicolor'],\n",
              "       ['Iris-versicolor'],\n",
              "       ['Iris-versicolor'],\n",
              "       ['Iris-versicolor'],\n",
              "       ['Iris-versicolor'],\n",
              "       ['Iris-versicolor'],\n",
              "       ['Iris-versicolor'],\n",
              "       ['Iris-versicolor'],\n",
              "       ['Iris-versicolor'],\n",
              "       ['Iris-versicolor'],\n",
              "       ['Iris-versicolor'],\n",
              "       ['Iris-versicolor'],\n",
              "       ['Iris-versicolor'],\n",
              "       ['Iris-versicolor'],\n",
              "       ['Iris-versicolor'],\n",
              "       ['Iris-versicolor'],\n",
              "       ['Iris-versicolor'],\n",
              "       ['Iris-versicolor'],\n",
              "       ['Iris-versicolor'],\n",
              "       ['Iris-versicolor'],\n",
              "       ['Iris-versicolor'],\n",
              "       ['Iris-versicolor'],\n",
              "       ['Iris-versicolor'],\n",
              "       ['Iris-versicolor'],\n",
              "       ['Iris-versicolor'],\n",
              "       ['Iris-versicolor'],\n",
              "       ['Iris-versicolor'],\n",
              "       ['Iris-versicolor'],\n",
              "       ['Iris-versicolor'],\n",
              "       ['Iris-versicolor'],\n",
              "       ['Iris-versicolor'],\n",
              "       ['Iris-versicolor'],\n",
              "       ['Iris-versicolor'],\n",
              "       ['Iris-versicolor'],\n",
              "       ['Iris-versicolor'],\n",
              "       ['Iris-versicolor'],\n",
              "       ['Iris-versicolor'],\n",
              "       ['Iris-virginica'],\n",
              "       ['Iris-virginica'],\n",
              "       ['Iris-virginica'],\n",
              "       ['Iris-virginica'],\n",
              "       ['Iris-virginica'],\n",
              "       ['Iris-virginica'],\n",
              "       ['Iris-virginica'],\n",
              "       ['Iris-virginica'],\n",
              "       ['Iris-virginica'],\n",
              "       ['Iris-virginica'],\n",
              "       ['Iris-virginica'],\n",
              "       ['Iris-virginica'],\n",
              "       ['Iris-virginica'],\n",
              "       ['Iris-virginica'],\n",
              "       ['Iris-virginica'],\n",
              "       ['Iris-virginica'],\n",
              "       ['Iris-virginica'],\n",
              "       ['Iris-virginica'],\n",
              "       ['Iris-virginica'],\n",
              "       ['Iris-virginica'],\n",
              "       ['Iris-virginica'],\n",
              "       ['Iris-virginica'],\n",
              "       ['Iris-virginica'],\n",
              "       ['Iris-virginica'],\n",
              "       ['Iris-virginica'],\n",
              "       ['Iris-virginica'],\n",
              "       ['Iris-virginica'],\n",
              "       ['Iris-virginica'],\n",
              "       ['Iris-virginica'],\n",
              "       ['Iris-virginica'],\n",
              "       ['Iris-virginica'],\n",
              "       ['Iris-virginica'],\n",
              "       ['Iris-virginica'],\n",
              "       ['Iris-virginica'],\n",
              "       ['Iris-virginica'],\n",
              "       ['Iris-virginica'],\n",
              "       ['Iris-virginica'],\n",
              "       ['Iris-virginica'],\n",
              "       ['Iris-virginica'],\n",
              "       ['Iris-virginica'],\n",
              "       ['Iris-virginica'],\n",
              "       ['Iris-virginica'],\n",
              "       ['Iris-virginica'],\n",
              "       ['Iris-virginica'],\n",
              "       ['Iris-virginica'],\n",
              "       ['Iris-virginica'],\n",
              "       ['Iris-virginica'],\n",
              "       ['Iris-virginica'],\n",
              "       ['Iris-virginica'],\n",
              "       ['Iris-virginica']], dtype=object)"
            ]
          },
          "metadata": {},
          "execution_count": 36
        }
      ]
    },
    {
      "cell_type": "markdown",
      "source": [
        "Converting labels into integers"
      ],
      "metadata": {
        "id": "MKUJPblhz5vi"
      }
    },
    {
      "cell_type": "code",
      "source": [
        "from sklearn.preprocessing import LabelBinarizer\n",
        "l=LabelBinarizer()\n",
        "y=l.fit_transform(y)"
      ],
      "metadata": {
        "id": "7LhSO8L_z3_a"
      },
      "execution_count": 37,
      "outputs": []
    },
    {
      "cell_type": "code",
      "source": [
        "y"
      ],
      "metadata": {
        "colab": {
          "base_uri": "https://localhost:8080/"
        },
        "id": "yteWv34S3lwu",
        "outputId": "07005dc0-1f54-4431-9ca0-809e4bd1cb42"
      },
      "execution_count": 38,
      "outputs": [
        {
          "output_type": "execute_result",
          "data": {
            "text/plain": [
              "array([[1, 0, 0],\n",
              "       [1, 0, 0],\n",
              "       [1, 0, 0],\n",
              "       [1, 0, 0],\n",
              "       [1, 0, 0],\n",
              "       [1, 0, 0],\n",
              "       [1, 0, 0],\n",
              "       [1, 0, 0],\n",
              "       [1, 0, 0],\n",
              "       [1, 0, 0],\n",
              "       [1, 0, 0],\n",
              "       [1, 0, 0],\n",
              "       [1, 0, 0],\n",
              "       [1, 0, 0],\n",
              "       [1, 0, 0],\n",
              "       [1, 0, 0],\n",
              "       [1, 0, 0],\n",
              "       [1, 0, 0],\n",
              "       [1, 0, 0],\n",
              "       [1, 0, 0],\n",
              "       [1, 0, 0],\n",
              "       [1, 0, 0],\n",
              "       [1, 0, 0],\n",
              "       [1, 0, 0],\n",
              "       [1, 0, 0],\n",
              "       [1, 0, 0],\n",
              "       [1, 0, 0],\n",
              "       [1, 0, 0],\n",
              "       [1, 0, 0],\n",
              "       [1, 0, 0],\n",
              "       [1, 0, 0],\n",
              "       [1, 0, 0],\n",
              "       [1, 0, 0],\n",
              "       [1, 0, 0],\n",
              "       [1, 0, 0],\n",
              "       [1, 0, 0],\n",
              "       [1, 0, 0],\n",
              "       [1, 0, 0],\n",
              "       [1, 0, 0],\n",
              "       [1, 0, 0],\n",
              "       [1, 0, 0],\n",
              "       [1, 0, 0],\n",
              "       [1, 0, 0],\n",
              "       [1, 0, 0],\n",
              "       [1, 0, 0],\n",
              "       [1, 0, 0],\n",
              "       [1, 0, 0],\n",
              "       [1, 0, 0],\n",
              "       [1, 0, 0],\n",
              "       [1, 0, 0],\n",
              "       [0, 1, 0],\n",
              "       [0, 1, 0],\n",
              "       [0, 1, 0],\n",
              "       [0, 1, 0],\n",
              "       [0, 1, 0],\n",
              "       [0, 1, 0],\n",
              "       [0, 1, 0],\n",
              "       [0, 1, 0],\n",
              "       [0, 1, 0],\n",
              "       [0, 1, 0],\n",
              "       [0, 1, 0],\n",
              "       [0, 1, 0],\n",
              "       [0, 1, 0],\n",
              "       [0, 1, 0],\n",
              "       [0, 1, 0],\n",
              "       [0, 1, 0],\n",
              "       [0, 1, 0],\n",
              "       [0, 1, 0],\n",
              "       [0, 1, 0],\n",
              "       [0, 1, 0],\n",
              "       [0, 1, 0],\n",
              "       [0, 1, 0],\n",
              "       [0, 1, 0],\n",
              "       [0, 1, 0],\n",
              "       [0, 1, 0],\n",
              "       [0, 1, 0],\n",
              "       [0, 1, 0],\n",
              "       [0, 1, 0],\n",
              "       [0, 1, 0],\n",
              "       [0, 1, 0],\n",
              "       [0, 1, 0],\n",
              "       [0, 1, 0],\n",
              "       [0, 1, 0],\n",
              "       [0, 1, 0],\n",
              "       [0, 1, 0],\n",
              "       [0, 1, 0],\n",
              "       [0, 1, 0],\n",
              "       [0, 1, 0],\n",
              "       [0, 1, 0],\n",
              "       [0, 1, 0],\n",
              "       [0, 1, 0],\n",
              "       [0, 1, 0],\n",
              "       [0, 1, 0],\n",
              "       [0, 1, 0],\n",
              "       [0, 1, 0],\n",
              "       [0, 1, 0],\n",
              "       [0, 1, 0],\n",
              "       [0, 1, 0],\n",
              "       [0, 1, 0],\n",
              "       [0, 1, 0],\n",
              "       [0, 0, 1],\n",
              "       [0, 0, 1],\n",
              "       [0, 0, 1],\n",
              "       [0, 0, 1],\n",
              "       [0, 0, 1],\n",
              "       [0, 0, 1],\n",
              "       [0, 0, 1],\n",
              "       [0, 0, 1],\n",
              "       [0, 0, 1],\n",
              "       [0, 0, 1],\n",
              "       [0, 0, 1],\n",
              "       [0, 0, 1],\n",
              "       [0, 0, 1],\n",
              "       [0, 0, 1],\n",
              "       [0, 0, 1],\n",
              "       [0, 0, 1],\n",
              "       [0, 0, 1],\n",
              "       [0, 0, 1],\n",
              "       [0, 0, 1],\n",
              "       [0, 0, 1],\n",
              "       [0, 0, 1],\n",
              "       [0, 0, 1],\n",
              "       [0, 0, 1],\n",
              "       [0, 0, 1],\n",
              "       [0, 0, 1],\n",
              "       [0, 0, 1],\n",
              "       [0, 0, 1],\n",
              "       [0, 0, 1],\n",
              "       [0, 0, 1],\n",
              "       [0, 0, 1],\n",
              "       [0, 0, 1],\n",
              "       [0, 0, 1],\n",
              "       [0, 0, 1],\n",
              "       [0, 0, 1],\n",
              "       [0, 0, 1],\n",
              "       [0, 0, 1],\n",
              "       [0, 0, 1],\n",
              "       [0, 0, 1],\n",
              "       [0, 0, 1],\n",
              "       [0, 0, 1],\n",
              "       [0, 0, 1],\n",
              "       [0, 0, 1],\n",
              "       [0, 0, 1],\n",
              "       [0, 0, 1],\n",
              "       [0, 0, 1],\n",
              "       [0, 0, 1],\n",
              "       [0, 0, 1],\n",
              "       [0, 0, 1],\n",
              "       [0, 0, 1],\n",
              "       [0, 0, 1]])"
            ]
          },
          "metadata": {},
          "execution_count": 38
        }
      ]
    },
    {
      "cell_type": "markdown",
      "source": [
        "Splitting the data into testing and training sets"
      ],
      "metadata": {
        "id": "eDVv1KKd30uz"
      }
    },
    {
      "cell_type": "code",
      "source": [
        "from sklearn.model_selection import train_test_split\n",
        "x_train,x_test,y_train,y_test=train_test_split(x,y,test_size=0.2,random_state=0)"
      ],
      "metadata": {
        "id": "0cW11OsP3nS9"
      },
      "execution_count": 39,
      "outputs": []
    },
    {
      "cell_type": "code",
      "source": [
        "print(x_train.shape,x_test.shape)"
      ],
      "metadata": {
        "colab": {
          "base_uri": "https://localhost:8080/"
        },
        "id": "9Vip-arN4BRb",
        "outputId": "719c2018-7727-443b-f6b7-c112ae0a5946"
      },
      "execution_count": 40,
      "outputs": [
        {
          "output_type": "stream",
          "name": "stdout",
          "text": [
            "(120, 4) (30, 4)\n"
          ]
        }
      ]
    },
    {
      "cell_type": "markdown",
      "source": [
        "Train the model"
      ],
      "metadata": {
        "id": "QHLoHlW_4WUz"
      }
    },
    {
      "cell_type": "code",
      "source": [
        "from sklearn.tree import DecisionTreeClassifier\n",
        "d=DecisionTreeClassifier()\n",
        "d.fit(x_train,y_train)"
      ],
      "metadata": {
        "colab": {
          "base_uri": "https://localhost:8080/"
        },
        "id": "9atRSS7I4KWo",
        "outputId": "0b43d55d-3fa4-4a29-d6e3-77eaf1b20149"
      },
      "execution_count": 41,
      "outputs": [
        {
          "output_type": "execute_result",
          "data": {
            "text/plain": [
              "DecisionTreeClassifier()"
            ]
          },
          "metadata": {},
          "execution_count": 41
        }
      ]
    },
    {
      "cell_type": "markdown",
      "source": [
        "Making predictions"
      ],
      "metadata": {
        "id": "GtxFudNz4zHc"
      }
    },
    {
      "cell_type": "code",
      "source": [
        "y_pred=d.predict(x_test)\n",
        "y"
      ],
      "metadata": {
        "colab": {
          "base_uri": "https://localhost:8080/"
        },
        "id": "B8ZdcENP4wgt",
        "outputId": "0f60a330-8e02-4936-cc0e-da66581c0eaa"
      },
      "execution_count": 42,
      "outputs": [
        {
          "output_type": "execute_result",
          "data": {
            "text/plain": [
              "array([[1, 0, 0],\n",
              "       [1, 0, 0],\n",
              "       [1, 0, 0],\n",
              "       [1, 0, 0],\n",
              "       [1, 0, 0],\n",
              "       [1, 0, 0],\n",
              "       [1, 0, 0],\n",
              "       [1, 0, 0],\n",
              "       [1, 0, 0],\n",
              "       [1, 0, 0],\n",
              "       [1, 0, 0],\n",
              "       [1, 0, 0],\n",
              "       [1, 0, 0],\n",
              "       [1, 0, 0],\n",
              "       [1, 0, 0],\n",
              "       [1, 0, 0],\n",
              "       [1, 0, 0],\n",
              "       [1, 0, 0],\n",
              "       [1, 0, 0],\n",
              "       [1, 0, 0],\n",
              "       [1, 0, 0],\n",
              "       [1, 0, 0],\n",
              "       [1, 0, 0],\n",
              "       [1, 0, 0],\n",
              "       [1, 0, 0],\n",
              "       [1, 0, 0],\n",
              "       [1, 0, 0],\n",
              "       [1, 0, 0],\n",
              "       [1, 0, 0],\n",
              "       [1, 0, 0],\n",
              "       [1, 0, 0],\n",
              "       [1, 0, 0],\n",
              "       [1, 0, 0],\n",
              "       [1, 0, 0],\n",
              "       [1, 0, 0],\n",
              "       [1, 0, 0],\n",
              "       [1, 0, 0],\n",
              "       [1, 0, 0],\n",
              "       [1, 0, 0],\n",
              "       [1, 0, 0],\n",
              "       [1, 0, 0],\n",
              "       [1, 0, 0],\n",
              "       [1, 0, 0],\n",
              "       [1, 0, 0],\n",
              "       [1, 0, 0],\n",
              "       [1, 0, 0],\n",
              "       [1, 0, 0],\n",
              "       [1, 0, 0],\n",
              "       [1, 0, 0],\n",
              "       [1, 0, 0],\n",
              "       [0, 1, 0],\n",
              "       [0, 1, 0],\n",
              "       [0, 1, 0],\n",
              "       [0, 1, 0],\n",
              "       [0, 1, 0],\n",
              "       [0, 1, 0],\n",
              "       [0, 1, 0],\n",
              "       [0, 1, 0],\n",
              "       [0, 1, 0],\n",
              "       [0, 1, 0],\n",
              "       [0, 1, 0],\n",
              "       [0, 1, 0],\n",
              "       [0, 1, 0],\n",
              "       [0, 1, 0],\n",
              "       [0, 1, 0],\n",
              "       [0, 1, 0],\n",
              "       [0, 1, 0],\n",
              "       [0, 1, 0],\n",
              "       [0, 1, 0],\n",
              "       [0, 1, 0],\n",
              "       [0, 1, 0],\n",
              "       [0, 1, 0],\n",
              "       [0, 1, 0],\n",
              "       [0, 1, 0],\n",
              "       [0, 1, 0],\n",
              "       [0, 1, 0],\n",
              "       [0, 1, 0],\n",
              "       [0, 1, 0],\n",
              "       [0, 1, 0],\n",
              "       [0, 1, 0],\n",
              "       [0, 1, 0],\n",
              "       [0, 1, 0],\n",
              "       [0, 1, 0],\n",
              "       [0, 1, 0],\n",
              "       [0, 1, 0],\n",
              "       [0, 1, 0],\n",
              "       [0, 1, 0],\n",
              "       [0, 1, 0],\n",
              "       [0, 1, 0],\n",
              "       [0, 1, 0],\n",
              "       [0, 1, 0],\n",
              "       [0, 1, 0],\n",
              "       [0, 1, 0],\n",
              "       [0, 1, 0],\n",
              "       [0, 1, 0],\n",
              "       [0, 1, 0],\n",
              "       [0, 1, 0],\n",
              "       [0, 1, 0],\n",
              "       [0, 1, 0],\n",
              "       [0, 1, 0],\n",
              "       [0, 0, 1],\n",
              "       [0, 0, 1],\n",
              "       [0, 0, 1],\n",
              "       [0, 0, 1],\n",
              "       [0, 0, 1],\n",
              "       [0, 0, 1],\n",
              "       [0, 0, 1],\n",
              "       [0, 0, 1],\n",
              "       [0, 0, 1],\n",
              "       [0, 0, 1],\n",
              "       [0, 0, 1],\n",
              "       [0, 0, 1],\n",
              "       [0, 0, 1],\n",
              "       [0, 0, 1],\n",
              "       [0, 0, 1],\n",
              "       [0, 0, 1],\n",
              "       [0, 0, 1],\n",
              "       [0, 0, 1],\n",
              "       [0, 0, 1],\n",
              "       [0, 0, 1],\n",
              "       [0, 0, 1],\n",
              "       [0, 0, 1],\n",
              "       [0, 0, 1],\n",
              "       [0, 0, 1],\n",
              "       [0, 0, 1],\n",
              "       [0, 0, 1],\n",
              "       [0, 0, 1],\n",
              "       [0, 0, 1],\n",
              "       [0, 0, 1],\n",
              "       [0, 0, 1],\n",
              "       [0, 0, 1],\n",
              "       [0, 0, 1],\n",
              "       [0, 0, 1],\n",
              "       [0, 0, 1],\n",
              "       [0, 0, 1],\n",
              "       [0, 0, 1],\n",
              "       [0, 0, 1],\n",
              "       [0, 0, 1],\n",
              "       [0, 0, 1],\n",
              "       [0, 0, 1],\n",
              "       [0, 0, 1],\n",
              "       [0, 0, 1],\n",
              "       [0, 0, 1],\n",
              "       [0, 0, 1],\n",
              "       [0, 0, 1],\n",
              "       [0, 0, 1],\n",
              "       [0, 0, 1],\n",
              "       [0, 0, 1],\n",
              "       [0, 0, 1],\n",
              "       [0, 0, 1]])"
            ]
          },
          "metadata": {},
          "execution_count": 42
        }
      ]
    },
    {
      "cell_type": "markdown",
      "source": [
        "Evaluating the model"
      ],
      "metadata": {
        "id": "C8cVzow85D0u"
      }
    },
    {
      "cell_type": "code",
      "source": [
        "from sklearn.metrics import confusion_matrix,accuracy_score\n",
        "c=confusion_matrix(y_test.argmax(axis=1),y_pred.argmax(axis=1))\n",
        "c"
      ],
      "metadata": {
        "colab": {
          "base_uri": "https://localhost:8080/"
        },
        "id": "LqSy4Qgq48T1",
        "outputId": "5531d86f-265e-41f0-c90b-1d822cc05a4d"
      },
      "execution_count": 43,
      "outputs": [
        {
          "output_type": "execute_result",
          "data": {
            "text/plain": [
              "array([[11,  0,  0],\n",
              "       [ 0, 13,  0],\n",
              "       [ 0,  1,  5]])"
            ]
          },
          "metadata": {},
          "execution_count": 43
        }
      ]
    },
    {
      "cell_type": "code",
      "source": [
        "a=accuracy_score(y_test.argmax(axis=1),y_pred.argmax(axis=1))\n",
        "a"
      ],
      "metadata": {
        "colab": {
          "base_uri": "https://localhost:8080/"
        },
        "id": "OziAUWKt6Bx5",
        "outputId": "de636795-6d59-47af-ca9c-b2f93528dc3f"
      },
      "execution_count": 44,
      "outputs": [
        {
          "output_type": "execute_result",
          "data": {
            "text/plain": [
              "0.9666666666666667"
            ]
          },
          "metadata": {},
          "execution_count": 44
        }
      ]
    },
    {
      "cell_type": "markdown",
      "source": [
        "Our data is 97% approximate for given dataset"
      ],
      "metadata": {
        "id": "ItDVnVEX9N4R"
      }
    },
    {
      "cell_type": "markdown",
      "source": [
        "Tree Visualization"
      ],
      "metadata": {
        "id": "GjRojSp99dr3"
      }
    },
    {
      "cell_type": "code",
      "source": [
        "import matplotlib"
      ],
      "metadata": {
        "id": "FrHwi4JV6ZHv"
      },
      "execution_count": 45,
      "outputs": []
    },
    {
      "cell_type": "code",
      "source": [
        "matplotlib.rcParams['figure.figsize']=[20,9]"
      ],
      "metadata": {
        "id": "v-WixNyE9kHD"
      },
      "execution_count": 46,
      "outputs": []
    },
    {
      "cell_type": "code",
      "source": [
        "from sklearn import tree\n",
        "tree.plot_tree(d,filled=True);"
      ],
      "metadata": {
        "colab": {
          "base_uri": "https://localhost:8080/",
          "height": 513
        },
        "id": "5lyjDPv_-oG1",
        "outputId": "5fed517d-b227-4d07-acd2-269cf97877a8"
      },
      "execution_count": 47,
      "outputs": [
        {
          "output_type": "display_data",
          "data": {
            "text/plain": [
              "<Figure size 1440x648 with 1 Axes>"
            ],
            "image/png": "[encoded data removed]"
          },
          "metadata": {
            "needs_background": "light"
          }
        }
      ]
    },
    {
      "cell_type": "code",
      "source": [],
      "metadata": {
        "id": "4oZLiHYW_EqE"
      },
      "execution_count": null,
      "outputs": []
    }
  ]
}